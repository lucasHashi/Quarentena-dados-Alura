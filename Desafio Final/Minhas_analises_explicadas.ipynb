{
  "nbformat": 4,
  "nbformat_minor": 0,
  "metadata": {
    "colab": {
      "name": "Divisao dados planejamento 1.ipynb",
      "provenance": [],
      "collapsed_sections": [],
      "toc_visible": true,
      "machine_shape": "hm",
      "authorship_tag": "ABX9TyOzaLuXyzFYYd2Z8wrFBFyh",
      "include_colab_link": true
    },
    "kernelspec": {
      "name": "python3",
      "display_name": "Python 3"
    }
  },
  "cells": [
    {
      "cell_type": "markdown",
      "metadata": {
        "id": "view-in-github",
        "colab_type": "text"
      },
      "source": [
        "<a href=\"https://colab.research.google.com/github/lucasHashi/Quarentena-dados-Alura/blob/master/Desafio%20Final/Minhas_analises_explicadas.ipynb\" target=\"_parent\"><img src=\"https://colab.research.google.com/assets/colab-badge.svg\" alt=\"Open In Colab\"/></a>"
      ]
    },
    {
      "cell_type": "code",
      "metadata": {
        "id": "avKRlz5DovFl",
        "colab_type": "code",
        "outputId": "a601efce-a0c8-45bb-88d8-eb0f4c19406f",
        "colab": {
          "base_uri": "https://localhost:8080/",
          "height": 561
        }
      },
      "source": [
        "for chave in dados_categorizados:\n",
        "  dados_atuais = dados_categorizados[chave]\n",
        "  resultado_atual = avaliar_modelos(dados_atuais, modelos=['floresta'])\n",
        "  print('\\n------- {} notas e {} redacao -------'.format(chave.split('_')[0], chave.split('_')[1]))\n",
        "\n",
        "  for modelo in resultado_atual:\n",
        "    erro = resultado_atual[modelo]['erro']\n",
        "    print('Modelo: {}\\n Erro: {}'.format(modelo, erro))"
      ],
      "execution_count": 0,
      "outputs": [
        {
          "output_type": "stream",
          "text": [
            "\n",
            "------- 3 notas e True redacao -------\n",
            "Modelo: floresta\n",
            " Erro: 300.6858060666357\n",
            "\n",
            "------- 2 notas e True redacao -------\n",
            "Modelo: floresta\n",
            " Erro: 300.10668035717634\n",
            "\n",
            "------- 1 notas e True redacao -------\n",
            "Modelo: floresta\n",
            " Erro: 300.8191028010589\n",
            "\n",
            "------- 0 notas e True redacao -------\n",
            "Modelo: floresta\n",
            " Erro: 300.7503064886648\n",
            "\n",
            "------- 3 notas e False redacao -------\n",
            "Modelo: floresta\n",
            " Erro: 300.90863316330564\n",
            "\n",
            "------- 2 notas e False redacao -------\n",
            "Modelo: floresta\n",
            " Erro: 301.108898113732\n",
            "\n",
            "------- 1 notas e False redacao -------\n",
            "Modelo: floresta\n",
            " Erro: 301.08919927886853\n",
            "\n",
            "------- 0 notas e False redacao -------\n",
            "Modelo: floresta\n",
            " Erro: 300.7786254515662\n"
          ],
          "name": "stdout"
        }
      ]
    },
    {
      "cell_type": "markdown",
      "metadata": {
        "id": "S9XAAvyd89x9",
        "colab_type": "text"
      },
      "source": [
        "# Desafio final da Quarentena Dados da Alura"
      ]
    },
    {
      "cell_type": "markdown",
      "metadata": {
        "id": "4dUkHWLz9Xcw",
        "colab_type": "text"
      },
      "source": [
        "## Resumo\n",
        "\n",
        "A análise começou com os **modelos**:\n",
        "*   Regressão linear\n",
        "*   SVR\n",
        "*   Floresta aleatória\n",
        "*   SGDRegressor\n",
        "\n",
        "Mas tivemos duas baixas ao longo das análises:\n",
        "*   SVR, pelo tempo de processamento e não demonstrar grande melhoria em relação a Regressão linear\n",
        "*   SGDRegressor, pelo erro medio quadrático extremamente alto\n",
        "\n",
        "Das **abordagens utilizadas**.\n",
        "\n",
        "Método 1: Não separar ou limpar dados, utilizar a tabela inteira e rodas os modelos.\n",
        "\n",
        "Método 2: Separar os alunos por categorias, em relação a quantas provas tiveram nota > 300 e pela nota de redação > 0"
      ]
    },
    {
      "cell_type": "markdown",
      "metadata": {
        "id": "VW8nQ3VZ_Pys",
        "colab_type": "text"
      },
      "source": [
        "## Codigos base"
      ]
    },
    {
      "cell_type": "code",
      "metadata": {
        "id": "_r-tBeQwnxcc",
        "colab_type": "code",
        "colab": {}
      },
      "source": [
        "import numpy as np\n",
        "import pandas as pd\n",
        "import seaborn as sns\n",
        "from sklearn.metrics import mean_squared_error\n",
        "\n",
        "from sklearn.linear_model import LinearRegression\n",
        "from sklearn.ensemble import RandomForestRegressor\n",
        "from sklearn.svm import SVR\n",
        "from sklearn.linear_model import SGDRegressor\n",
        "\n",
        "\n",
        "URI_TREINO = \"https://github.com/tgcsantos/quaretenadados/blob/master/DADOS_TREINO.csv?raw=true\"\n",
        "URI_TESTE = \"https://github.com/tgcsantos/quaretenadados/raw/master/DADOS_TESTE.csv\"\n",
        "URI_DESAFIOQT = \"https://github.com/tgcsantos/quaretenadados/raw/master/DESAFIOQT.csv\"\n",
        "\n",
        "dados_treino = pd.read_csv(URI_TREINO)\n",
        "dados_teste = pd.read_csv(URI_TESTE)\n",
        "dados_desafioqt = pd.read_csv(URI_DESAFIOQT)\n",
        "\n",
        "erro_treino = \"Erro ao carregar dados de treino\"\n",
        "erro_teste = \"Erro ao carregar dados de teste\"\n",
        "erro_desafioqt = \"Erro ao carregar dados de submissão\"\n",
        "\n",
        "assert dados_treino.shape == (150000, 5), erro_treino\n",
        "assert dados_teste.shape == (20000, 5), erro_teste\n",
        "assert dados_desafioqt.shape == (10000, 5), erro_desafioqt"
      ],
      "execution_count": 0,
      "outputs": []
    },
    {
      "cell_type": "code",
      "metadata": {
        "id": "qPWTVhtpn9z5",
        "colab_type": "code",
        "colab": {}
      },
      "source": [
        "coluna_label = 'NU_NOTA_LC'\n",
        "coluna_features = ['NU_NOTA_CN', 'NU_NOTA_CH', 'NU_NOTA_MT', 'NU_NOTA_REDACAO']\n",
        "\n",
        "X_treino = dados_treino[coluna_features].to_numpy()\n",
        "Y_treino = dados_treino[coluna_label].to_numpy()\n",
        "X_teste = dados_teste[coluna_features].to_numpy()\n",
        "Y_teste = dados_teste[coluna_label].to_numpy()\n"
      ],
      "execution_count": 0,
      "outputs": []
    },
    {
      "cell_type": "code",
      "metadata": {
        "id": "BT1cCZRIoD0v",
        "colab_type": "code",
        "colab": {
          "base_uri": "https://localhost:8080/",
          "height": 34
        },
        "outputId": "2301c202-21fa-4784-9b79-a0f11300b626"
      },
      "source": [
        "#Exemplo de classificação com Dummy\n",
        "from sklearn.dummy import DummyRegressor\n",
        "from sklearn.metrics import mean_squared_error\n",
        "\n",
        "modelo_dummy = DummyRegressor()\n",
        "modelo_dummy.fit(X_treino, Y_treino)\n",
        "dummy_predicoes = modelo_dummy.predict(X_teste)\n",
        "\n",
        "avaliacao_dummy = mean_squared_error(Y_teste, dummy_predicoes)\n",
        "\n",
        "print(f\"Minha avaliação nos dados de teste foi de {avaliacao_dummy}\")"
      ],
      "execution_count": 35,
      "outputs": [
        {
          "output_type": "stream",
          "text": [
            "Minha avaliação nos dados de teste foi de 5219.286870186777\n"
          ],
          "name": "stdout"
        }
      ]
    },
    {
      "cell_type": "markdown",
      "metadata": {
        "id": "bYxevgDfoyUc",
        "colab_type": "text"
      },
      "source": [
        "# Inicio minhas análises"
      ]
    },
    {
      "cell_type": "markdown",
      "metadata": {
        "id": "zg-geyvSR4rM",
        "colab_type": "text"
      },
      "source": [
        "## Função de avaliação dos modelos\n",
        "**Entrada:**\n",
        "*   dados_treino - DataFrame de treino com todas as colunas\n",
        "*   modelos - List com os modelos que devem ser testados. Default = ['linear', 'floresta', 'SVR', 'SGD'] (todos os modelos)\n",
        "\n",
        "**Retorno:**\n",
        "*   Dict - predições dos modelos listados\n",
        "\n",
        "\n",
        "\n"
      ]
    },
    {
      "cell_type": "code",
      "metadata": {
        "id": "_TSfBPHXK3xQ",
        "colab_type": "code",
        "colab": {}
      },
      "source": [
        "def avaliar_modelos(dados_treino, modelos = ['linear', 'floresta']):\n",
        "  # Divisao dos dados para treinos e teste\n",
        "  coluna_label = 'NU_NOTA_LC'\n",
        "  coluna_features = ['NU_NOTA_CN', 'NU_NOTA_CH', 'NU_NOTA_MT', 'NU_NOTA_REDACAO']\n",
        "\n",
        "  X_treino = dados_treino_todas_notas[coluna_features].to_numpy()\n",
        "  Y_treino = dados_treino_todas_notas[coluna_label].to_numpy()\n",
        "  X_teste = dados_treino_todas_notas[coluna_features].to_numpy()\n",
        "  Y_teste = dados_treino_todas_notas[coluna_label].to_numpy()\n",
        "\n",
        "  dict_predicoes = {}\n",
        "\n",
        "  # Para cada modelo escolhido\n",
        "  while(modelos):\n",
        "    nome_modelo = modelos.pop()\n",
        "    if(nome_modelo == 'linear'):\n",
        "      modelo = LinearRegression()\n",
        "    elif(nome_modelo == 'SVR'):\n",
        "      #modelo = SVR()\n",
        "      modelo = LinearRegression()\n",
        "    elif(nome_modelo == 'floresta'):\n",
        "      modelo = RandomForestRegressor()\n",
        "    \n",
        "    # Avaliar e guardar:\n",
        "    #   Predicoes para os dados de teste\n",
        "    #   Respostas certas para os dados de teste\n",
        "    #   Erro sobre os dados de teste\n",
        "    dict_predicoes[nome_modelo] = {}\n",
        "    modelo.fit(X_treino, Y_treino)\n",
        "    predicoes = modelo.predict(X_teste)\n",
        "    dict_predicoes[nome_modelo]['predicoes'] = predicoes\n",
        "    dict_predicoes[nome_modelo]['corretas'] = Y_teste\n",
        "\n",
        "    avaliacao = mean_squared_error(Y_teste, predicoes)\n",
        "\n",
        "    dict_predicoes[nome_modelo]['erro'] = avaliacao\n",
        "  \n",
        "  return dict_predicoes"
      ],
      "execution_count": 0,
      "outputs": []
    },
    {
      "cell_type": "markdown",
      "metadata": {
        "id": "6BJ4dOBT8DYJ",
        "colab_type": "text"
      },
      "source": [
        "## Método de exploração nivel 1\n",
        "Análise da base inteira.\n",
        "\n",
        "Avaliar modelos sem qualquer divisão.\n",
        "\n",
        "**O modelo SVR foi rodado um vez (em 50 minutos) e o resultado foi algo como 20 a menos do que a Regressão Linear.** Por isso foi tirado da análise."
      ]
    },
    {
      "cell_type": "code",
      "metadata": {
        "id": "Lj3Gpt8ZQI-f",
        "colab_type": "code",
        "colab": {
          "base_uri": "https://localhost:8080/",
          "height": 136
        },
        "outputId": "53c6ae1b-1a0b-4d1f-f8f9-97610809331a"
      },
      "source": [
        "avaliar_modelos(dados_treino)"
      ],
      "execution_count": 24,
      "outputs": [
        {
          "output_type": "stream",
          "text": [
            "Modelo: Regressao linear\n",
            " Erro: 2119.362708047893\n",
            "SVR é pesado né :(\n",
            "Modelo: Floresta aleatoria\n",
            " Erro: 300.4791777046204\n",
            "Modelo: SGD Regressor\n",
            " Erro: 7.802905819839274e+26\n"
          ],
          "name": "stdout"
        }
      ]
    },
    {
      "cell_type": "code",
      "metadata": {
        "id": "LAT9aojkAQ32",
        "colab_type": "code",
        "colab": {
          "base_uri": "https://localhost:8080/",
          "height": 85
        },
        "outputId": "66f3a808-3868-4647-b8e6-d340cf79ff5a"
      },
      "source": [
        "modelo_atual = 'floresta'\n",
        "print('Modelo utilizado: {}'.format(modelo_atual))\n",
        "\n",
        "print('\\n------- Todos os dados -------')\n",
        "resultado = avaliar_modelos(dados_treino, modelos=[modelo_atual])\n",
        "resultado = resultado[modelo_atual]\n",
        "\n",
        "erro = resultado['erro']\n",
        "\n",
        "print('Minha avaliação PARCIAL nos dados de teste foi de {}'.format(erro))"
      ],
      "execution_count": 134,
      "outputs": [
        {
          "output_type": "stream",
          "text": [
            "Modelo utilizado: floresta\n",
            "\n",
            "------- Todos os dados -------\n",
            "Minha avaliação PARCIAL nos dados de teste foi de 300.0860191414114\n"
          ],
          "name": "stdout"
        }
      ]
    },
    {
      "cell_type": "markdown",
      "metadata": {
        "id": "Lmt-luhfOgec",
        "colab_type": "text"
      },
      "source": [
        "## Método de exploração nivel 2\n",
        "Para este caso toma-se como hipótese que é a **quantidade** de matérias feitas que interfere na nota de portugues e não **quais** foram as matérias feitas\n",
        "\n",
        "Ter nota ou não se refere a nota ser > 300 e para redação > 0\n",
        "\n",
        "Análise da base divida pelas categorias:\n",
        "\n",
        "*   Aluno com as 3 notas e com redação\n",
        "*   Aluno com as 2 notas e com redação\n",
        "*   Aluno com as 1 notas e com redação\n",
        "*   Aluno com as 0 notas e com redação\n",
        "*   Aluno com as 3 notas e sem redação\n",
        "*   Aluno com as 2 notas e sem redação\n",
        "*   Aluno com as 1 notas e sem redação\n",
        "*   Aluno com as 0 notas e sem redação\n",
        "\n",
        "Poderia ter separado em:\n",
        "\n",
        "*   Aluno com 4 notas\n",
        "*   Aluno com 3 notas\n",
        "*   ...\n",
        "\n",
        "Mas suponho que redação seja um fator importante para a nota em portugues"
      ]
    },
    {
      "cell_type": "markdown",
      "metadata": {
        "id": "P0nhNbRuRh3i",
        "colab_type": "text"
      },
      "source": [
        "### Divisão das categorias"
      ]
    },
    {
      "cell_type": "code",
      "metadata": {
        "id": "j5GQ5yYfcw_J",
        "colab_type": "code",
        "colab": {
          "base_uri": "https://localhost:8080/",
          "height": 419
        },
        "outputId": "dab9cee9-cdc9-4764-97ba-8f6055b4ade0"
      },
      "source": [
        "dados_treino_metodo1 = dados_treino.copy()\n",
        "\n",
        "dados_treino_metodo1['CN_300'] = dados_treino_metodo1['NU_NOTA_CN'] > 300\n",
        "dados_treino_metodo1['CH_300'] = dados_treino_metodo1['NU_NOTA_CH'] > 300\n",
        "dados_treino_metodo1['MT_300'] = dados_treino_metodo1['NU_NOTA_MT'] > 300\n",
        "dados_treino_metodo1['REDACAO_0'] = dados_treino_metodo1['NU_NOTA_REDACAO'] > 0\n",
        "\n",
        "dados_treino_metodo1['CN_300'] = dados_treino_metodo1['CN_300'].apply(lambda x : 1 if(x) else 0)\n",
        "dados_treino_metodo1['CH_300'] = dados_treino_metodo1['CH_300'].apply(lambda x : 1 if(x) else 0)\n",
        "dados_treino_metodo1['MT_300'] = dados_treino_metodo1['MT_300'].apply(lambda x : 1 if(x) else 0)\n",
        "\n",
        "dados_treino_metodo1['quant_notas'] = dados_treino_metodo1['CN_300'] + dados_treino_metodo1['CH_300'] + dados_treino_metodo1['MT_300']\n",
        "dados_treino_metodo1"
      ],
      "execution_count": 94,
      "outputs": [
        {
          "output_type": "execute_result",
          "data": {
            "text/html": [
              "<div>\n",
              "<style scoped>\n",
              "    .dataframe tbody tr th:only-of-type {\n",
              "        vertical-align: middle;\n",
              "    }\n",
              "\n",
              "    .dataframe tbody tr th {\n",
              "        vertical-align: top;\n",
              "    }\n",
              "\n",
              "    .dataframe thead th {\n",
              "        text-align: right;\n",
              "    }\n",
              "</style>\n",
              "<table border=\"1\" class=\"dataframe\">\n",
              "  <thead>\n",
              "    <tr style=\"text-align: right;\">\n",
              "      <th></th>\n",
              "      <th>NU_NOTA_CN</th>\n",
              "      <th>NU_NOTA_CH</th>\n",
              "      <th>NU_NOTA_LC</th>\n",
              "      <th>NU_NOTA_MT</th>\n",
              "      <th>NU_NOTA_REDACAO</th>\n",
              "      <th>CN_300</th>\n",
              "      <th>CH_300</th>\n",
              "      <th>MT_300</th>\n",
              "      <th>REDACAO_0</th>\n",
              "      <th>quant_notas</th>\n",
              "    </tr>\n",
              "  </thead>\n",
              "  <tbody>\n",
              "    <tr>\n",
              "      <th>0</th>\n",
              "      <td>530.70</td>\n",
              "      <td>586.50</td>\n",
              "      <td>575.90</td>\n",
              "      <td>539.00</td>\n",
              "      <td>520.00</td>\n",
              "      <td>1</td>\n",
              "      <td>1</td>\n",
              "      <td>1</td>\n",
              "      <td>True</td>\n",
              "      <td>3</td>\n",
              "    </tr>\n",
              "    <tr>\n",
              "      <th>1</th>\n",
              "      <td>439.40</td>\n",
              "      <td>577.90</td>\n",
              "      <td>440.90</td>\n",
              "      <td>488.70</td>\n",
              "      <td>380.00</td>\n",
              "      <td>1</td>\n",
              "      <td>1</td>\n",
              "      <td>1</td>\n",
              "      <td>True</td>\n",
              "      <td>3</td>\n",
              "    </tr>\n",
              "    <tr>\n",
              "      <th>2</th>\n",
              "      <td>414.10</td>\n",
              "      <td>548.80</td>\n",
              "      <td>417.20</td>\n",
              "      <td>382.60</td>\n",
              "      <td>600.00</td>\n",
              "      <td>1</td>\n",
              "      <td>1</td>\n",
              "      <td>1</td>\n",
              "      <td>True</td>\n",
              "      <td>3</td>\n",
              "    </tr>\n",
              "    <tr>\n",
              "      <th>3</th>\n",
              "      <td>407.90</td>\n",
              "      <td>572.70</td>\n",
              "      <td>558.90</td>\n",
              "      <td>595.40</td>\n",
              "      <td>560.00</td>\n",
              "      <td>1</td>\n",
              "      <td>1</td>\n",
              "      <td>1</td>\n",
              "      <td>True</td>\n",
              "      <td>3</td>\n",
              "    </tr>\n",
              "    <tr>\n",
              "      <th>4</th>\n",
              "      <td>617.20</td>\n",
              "      <td>655.70</td>\n",
              "      <td>564.20</td>\n",
              "      <td>660.90</td>\n",
              "      <td>540.00</td>\n",
              "      <td>1</td>\n",
              "      <td>1</td>\n",
              "      <td>1</td>\n",
              "      <td>True</td>\n",
              "      <td>3</td>\n",
              "    </tr>\n",
              "    <tr>\n",
              "      <th>...</th>\n",
              "      <td>...</td>\n",
              "      <td>...</td>\n",
              "      <td>...</td>\n",
              "      <td>...</td>\n",
              "      <td>...</td>\n",
              "      <td>...</td>\n",
              "      <td>...</td>\n",
              "      <td>...</td>\n",
              "      <td>...</td>\n",
              "      <td>...</td>\n",
              "    </tr>\n",
              "    <tr>\n",
              "      <th>149995</th>\n",
              "      <td>587.80</td>\n",
              "      <td>644.10</td>\n",
              "      <td>621.40</td>\n",
              "      <td>714.40</td>\n",
              "      <td>840.00</td>\n",
              "      <td>1</td>\n",
              "      <td>1</td>\n",
              "      <td>1</td>\n",
              "      <td>True</td>\n",
              "      <td>3</td>\n",
              "    </tr>\n",
              "    <tr>\n",
              "      <th>149996</th>\n",
              "      <td>385.00</td>\n",
              "      <td>525.60</td>\n",
              "      <td>473.20</td>\n",
              "      <td>446.20</td>\n",
              "      <td>520.00</td>\n",
              "      <td>1</td>\n",
              "      <td>1</td>\n",
              "      <td>1</td>\n",
              "      <td>True</td>\n",
              "      <td>3</td>\n",
              "    </tr>\n",
              "    <tr>\n",
              "      <th>149997</th>\n",
              "      <td>471.00</td>\n",
              "      <td>558.70</td>\n",
              "      <td>582.40</td>\n",
              "      <td>542.90</td>\n",
              "      <td>460.00</td>\n",
              "      <td>1</td>\n",
              "      <td>1</td>\n",
              "      <td>1</td>\n",
              "      <td>True</td>\n",
              "      <td>3</td>\n",
              "    </tr>\n",
              "    <tr>\n",
              "      <th>149998</th>\n",
              "      <td>476.70</td>\n",
              "      <td>463.50</td>\n",
              "      <td>553.30</td>\n",
              "      <td>434.00</td>\n",
              "      <td>0.00</td>\n",
              "      <td>1</td>\n",
              "      <td>1</td>\n",
              "      <td>1</td>\n",
              "      <td>False</td>\n",
              "      <td>3</td>\n",
              "    </tr>\n",
              "    <tr>\n",
              "      <th>149999</th>\n",
              "      <td>637.80</td>\n",
              "      <td>611.50</td>\n",
              "      <td>533.90</td>\n",
              "      <td>731.70</td>\n",
              "      <td>600.00</td>\n",
              "      <td>1</td>\n",
              "      <td>1</td>\n",
              "      <td>1</td>\n",
              "      <td>True</td>\n",
              "      <td>3</td>\n",
              "    </tr>\n",
              "  </tbody>\n",
              "</table>\n",
              "<p>150000 rows × 10 columns</p>\n",
              "</div>"
            ],
            "text/plain": [
              "        NU_NOTA_CN  NU_NOTA_CH  NU_NOTA_LC  ...  MT_300  REDACAO_0  quant_notas\n",
              "0           530.70      586.50      575.90  ...       1       True            3\n",
              "1           439.40      577.90      440.90  ...       1       True            3\n",
              "2           414.10      548.80      417.20  ...       1       True            3\n",
              "3           407.90      572.70      558.90  ...       1       True            3\n",
              "4           617.20      655.70      564.20  ...       1       True            3\n",
              "...            ...         ...         ...  ...     ...        ...          ...\n",
              "149995      587.80      644.10      621.40  ...       1       True            3\n",
              "149996      385.00      525.60      473.20  ...       1       True            3\n",
              "149997      471.00      558.70      582.40  ...       1       True            3\n",
              "149998      476.70      463.50      553.30  ...       1      False            3\n",
              "149999      637.80      611.50      533.90  ...       1       True            3\n",
              "\n",
              "[150000 rows x 10 columns]"
            ]
          },
          "metadata": {
            "tags": []
          },
          "execution_count": 94
        }
      ]
    },
    {
      "cell_type": "code",
      "metadata": {
        "id": "5Z9ZNwe2kqka",
        "colab_type": "code",
        "colab": {
          "base_uri": "https://localhost:8080/",
          "height": 419
        },
        "outputId": "f5137daa-4ccf-4a8a-8c2b-5c5f989773a3"
      },
      "source": [
        "dados_categorizados = {}\n",
        "\n",
        "for valida_redacao in [True, False]:\n",
        "  for valida_notas in [3, 2, 1, 0]:\n",
        "    chave = str(valida_notas) + '_' + str(valida_redacao)\n",
        "    dados_atuais = dados_treino_metodo1[(dados_treino_metodo1['quant_notas'] == valida_notas) & (dados_treino_metodo1['REDACAO_0'] == valida_redacao)]\n",
        "\n",
        "    dados_categorizados[chave] = dados_atuais\n",
        "\n",
        "# Dados dos alunos que responderam duas das três provas e tiveram nota na redacao\n",
        "dados_categorizados['2_True']\n"
      ],
      "execution_count": 99,
      "outputs": [
        {
          "output_type": "execute_result",
          "data": {
            "text/html": [
              "<div>\n",
              "<style scoped>\n",
              "    .dataframe tbody tr th:only-of-type {\n",
              "        vertical-align: middle;\n",
              "    }\n",
              "\n",
              "    .dataframe tbody tr th {\n",
              "        vertical-align: top;\n",
              "    }\n",
              "\n",
              "    .dataframe thead th {\n",
              "        text-align: right;\n",
              "    }\n",
              "</style>\n",
              "<table border=\"1\" class=\"dataframe\">\n",
              "  <thead>\n",
              "    <tr style=\"text-align: right;\">\n",
              "      <th></th>\n",
              "      <th>NU_NOTA_CN</th>\n",
              "      <th>NU_NOTA_CH</th>\n",
              "      <th>NU_NOTA_LC</th>\n",
              "      <th>NU_NOTA_MT</th>\n",
              "      <th>NU_NOTA_REDACAO</th>\n",
              "      <th>CN_300</th>\n",
              "      <th>CH_300</th>\n",
              "      <th>MT_300</th>\n",
              "      <th>REDACAO_0</th>\n",
              "      <th>quant_notas</th>\n",
              "    </tr>\n",
              "  </thead>\n",
              "  <tbody>\n",
              "    <tr>\n",
              "      <th>175</th>\n",
              "      <td>459.30</td>\n",
              "      <td>0.00</td>\n",
              "      <td>506.50</td>\n",
              "      <td>518.40</td>\n",
              "      <td>340.00</td>\n",
              "      <td>1</td>\n",
              "      <td>0</td>\n",
              "      <td>1</td>\n",
              "      <td>True</td>\n",
              "      <td>2</td>\n",
              "    </tr>\n",
              "    <tr>\n",
              "      <th>351</th>\n",
              "      <td>437.50</td>\n",
              "      <td>0.00</td>\n",
              "      <td>460.80</td>\n",
              "      <td>494.50</td>\n",
              "      <td>320.00</td>\n",
              "      <td>1</td>\n",
              "      <td>0</td>\n",
              "      <td>1</td>\n",
              "      <td>True</td>\n",
              "      <td>2</td>\n",
              "    </tr>\n",
              "    <tr>\n",
              "      <th>2874</th>\n",
              "      <td>534.10</td>\n",
              "      <td>0.00</td>\n",
              "      <td>433.30</td>\n",
              "      <td>502.30</td>\n",
              "      <td>580.00</td>\n",
              "      <td>1</td>\n",
              "      <td>0</td>\n",
              "      <td>1</td>\n",
              "      <td>True</td>\n",
              "      <td>2</td>\n",
              "    </tr>\n",
              "    <tr>\n",
              "      <th>3073</th>\n",
              "      <td>459.90</td>\n",
              "      <td>0.00</td>\n",
              "      <td>0.00</td>\n",
              "      <td>518.60</td>\n",
              "      <td>460.00</td>\n",
              "      <td>1</td>\n",
              "      <td>0</td>\n",
              "      <td>1</td>\n",
              "      <td>True</td>\n",
              "      <td>2</td>\n",
              "    </tr>\n",
              "    <tr>\n",
              "      <th>3250</th>\n",
              "      <td>474.50</td>\n",
              "      <td>0.00</td>\n",
              "      <td>0.00</td>\n",
              "      <td>489.40</td>\n",
              "      <td>440.00</td>\n",
              "      <td>1</td>\n",
              "      <td>0</td>\n",
              "      <td>1</td>\n",
              "      <td>True</td>\n",
              "      <td>2</td>\n",
              "    </tr>\n",
              "    <tr>\n",
              "      <th>...</th>\n",
              "      <td>...</td>\n",
              "      <td>...</td>\n",
              "      <td>...</td>\n",
              "      <td>...</td>\n",
              "      <td>...</td>\n",
              "      <td>...</td>\n",
              "      <td>...</td>\n",
              "      <td>...</td>\n",
              "      <td>...</td>\n",
              "      <td>...</td>\n",
              "    </tr>\n",
              "    <tr>\n",
              "      <th>147115</th>\n",
              "      <td>452.90</td>\n",
              "      <td>0.00</td>\n",
              "      <td>557.40</td>\n",
              "      <td>491.80</td>\n",
              "      <td>600.00</td>\n",
              "      <td>1</td>\n",
              "      <td>0</td>\n",
              "      <td>1</td>\n",
              "      <td>True</td>\n",
              "      <td>2</td>\n",
              "    </tr>\n",
              "    <tr>\n",
              "      <th>147494</th>\n",
              "      <td>441.90</td>\n",
              "      <td>0.00</td>\n",
              "      <td>0.00</td>\n",
              "      <td>469.60</td>\n",
              "      <td>400.00</td>\n",
              "      <td>1</td>\n",
              "      <td>0</td>\n",
              "      <td>1</td>\n",
              "      <td>True</td>\n",
              "      <td>2</td>\n",
              "    </tr>\n",
              "    <tr>\n",
              "      <th>148990</th>\n",
              "      <td>498.80</td>\n",
              "      <td>0.00</td>\n",
              "      <td>530.30</td>\n",
              "      <td>523.10</td>\n",
              "      <td>680.00</td>\n",
              "      <td>1</td>\n",
              "      <td>0</td>\n",
              "      <td>1</td>\n",
              "      <td>True</td>\n",
              "      <td>2</td>\n",
              "    </tr>\n",
              "    <tr>\n",
              "      <th>149104</th>\n",
              "      <td>544.80</td>\n",
              "      <td>0.00</td>\n",
              "      <td>0.00</td>\n",
              "      <td>376.60</td>\n",
              "      <td>320.00</td>\n",
              "      <td>1</td>\n",
              "      <td>0</td>\n",
              "      <td>1</td>\n",
              "      <td>True</td>\n",
              "      <td>2</td>\n",
              "    </tr>\n",
              "    <tr>\n",
              "      <th>149222</th>\n",
              "      <td>390.60</td>\n",
              "      <td>0.00</td>\n",
              "      <td>0.00</td>\n",
              "      <td>473.70</td>\n",
              "      <td>280.00</td>\n",
              "      <td>1</td>\n",
              "      <td>0</td>\n",
              "      <td>1</td>\n",
              "      <td>True</td>\n",
              "      <td>2</td>\n",
              "    </tr>\n",
              "  </tbody>\n",
              "</table>\n",
              "<p>132 rows × 10 columns</p>\n",
              "</div>"
            ],
            "text/plain": [
              "        NU_NOTA_CN  NU_NOTA_CH  NU_NOTA_LC  ...  MT_300  REDACAO_0  quant_notas\n",
              "175         459.30        0.00      506.50  ...       1       True            2\n",
              "351         437.50        0.00      460.80  ...       1       True            2\n",
              "2874        534.10        0.00      433.30  ...       1       True            2\n",
              "3073        459.90        0.00        0.00  ...       1       True            2\n",
              "3250        474.50        0.00        0.00  ...       1       True            2\n",
              "...            ...         ...         ...  ...     ...        ...          ...\n",
              "147115      452.90        0.00      557.40  ...       1       True            2\n",
              "147494      441.90        0.00        0.00  ...       1       True            2\n",
              "148990      498.80        0.00      530.30  ...       1       True            2\n",
              "149104      544.80        0.00        0.00  ...       1       True            2\n",
              "149222      390.60        0.00        0.00  ...       1       True            2\n",
              "\n",
              "[132 rows x 10 columns]"
            ]
          },
          "metadata": {
            "tags": []
          },
          "execution_count": 99
        }
      ]
    },
    {
      "cell_type": "markdown",
      "metadata": {
        "id": "GZ0CNSQyvGhZ",
        "colab_type": "text"
      },
      "source": [
        "### Análise dos resultados\n",
        "\n",
        "**Pelo baixo erro do modelo Floresta Aleatória, esse será o modelo principal utilizado.**"
      ]
    },
    {
      "cell_type": "markdown",
      "metadata": {
        "id": "Y7pIRibcvjva",
        "colab_type": "text"
      },
      "source": [
        "Para analisar os resultados de todas as categorias juntas, vou juntar as predições em uma tabela única."
      ]
    },
    {
      "cell_type": "code",
      "metadata": {
        "id": "EU37QYygvKe1",
        "colab_type": "code",
        "colab": {
          "base_uri": "https://localhost:8080/",
          "height": 595
        },
        "outputId": "aec25d8f-30d9-4d3e-ce17-f50d4674ac4c"
      },
      "source": [
        "predicoes = []\n",
        "corretas = []\n",
        "modelo_atual = 'floresta'\n",
        "print('Modelo utilizado: {}'.format(modelo_atual))\n",
        "\n",
        "for chave in dados_categorizados:\n",
        "#for chave in ['3_True', '2_True', '3_False']:\n",
        "  dados_atuais = dados_categorizados[chave]\n",
        "  print('\\n------- {} notas e {} redacao -------'.format(chave.split('_')[0], chave.split('_')[1]))\n",
        "  resultado_atual = avaliar_modelos(dados_atuais, modelos=[modelo_atual])\n",
        "  resultado_atual = resultado_atual[modelo_atual]\n",
        "  predicoes_atuais = resultado_atual['predicoes']\n",
        "  corretas_atuais = resultado_atual['corretas']\n",
        "\n",
        "  erro_atual = resultado_atual['erro']\n",
        "\n",
        "  predicoes = np.concatenate((predicoes, predicoes_atuais), axis=0)\n",
        "  corretas = np.concatenate((corretas, corretas_atuais), axis=0)\n",
        "\n",
        "  print('Predicoes e respostas corretas adicionadas\\n  Erro: {}'.format(erro_atual))\n",
        "\n",
        "erro_total = mean_squared_error(corretas, predicoes)\n",
        "print('Minha avaliação PARCIAL nos dados de teste foi de {}'.format(erro_total))"
      ],
      "execution_count": 136,
      "outputs": [
        {
          "output_type": "stream",
          "text": [
            "Modelo utilizado: floresta\n",
            "\n",
            "------- 3 notas e True redacao -------\n",
            "Predicoes e respostas corretas adicionadas\n",
            "  Erro: 301.03388391107507\n",
            "\n",
            "------- 2 notas e True redacao -------\n",
            "Predicoes e respostas corretas adicionadas\n",
            "  Erro: 300.22637310289707\n",
            "\n",
            "------- 1 notas e True redacao -------\n",
            "Predicoes e respostas corretas adicionadas\n",
            "  Erro: 300.5638104110376\n",
            "\n",
            "------- 0 notas e True redacao -------\n",
            "Predicoes e respostas corretas adicionadas\n",
            "  Erro: 301.5387647154144\n",
            "\n",
            "------- 3 notas e False redacao -------\n",
            "Predicoes e respostas corretas adicionadas\n",
            "  Erro: 301.45568042121226\n",
            "\n",
            "------- 2 notas e False redacao -------\n",
            "Predicoes e respostas corretas adicionadas\n",
            "  Erro: 300.8499236574015\n",
            "\n",
            "------- 1 notas e False redacao -------\n",
            "Predicoes e respostas corretas adicionadas\n",
            "  Erro: 301.0125438907597\n",
            "\n",
            "------- 0 notas e False redacao -------\n",
            "Predicoes e respostas corretas adicionadas\n",
            "  Erro: 301.3798703621445\n",
            "Minha avaliação PARCIAL nos dados de teste foi de 301.0076063089929\n"
          ],
          "name": "stdout"
        }
      ]
    }
  ]
}